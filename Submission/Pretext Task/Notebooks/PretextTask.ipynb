{
 "cells": [
  {
   "cell_type": "markdown",
   "metadata": {
    "id": "lDgGN_5qzrIP"
   },
   "source": [
    "# Libraries"
   ]
  },
  {
   "cell_type": "code",
   "execution_count": 1,
   "metadata": {
    "id": "VUZ9Zz-djo45"
   },
   "outputs": [],
   "source": [
    "# Importing Libraries\n",
    "import numpy as np\n",
    "import pandas as pd\n",
    "import matplotlib\n",
    "import matplotlib.pyplot as plt\n",
    "import tensorflow as tf\n",
    "from tensorflow import keras\n",
    "import seaborn as sns\n",
    "from sklearn.metrics import accuracy_score, confusion_matrix, precision_score, recall_score, f1_score, classification_report\n",
    "%load_ext autotime  # Print out time per cell execution"
   ]
  },
  {
   "cell_type": "markdown",
   "metadata": {
    "id": "43XkYne0GXIf"
   },
   "source": [
    "# Importing Datasets"
   ]
  },
  {
   "cell_type": "code",
   "execution_count": 3,
   "metadata": {},
   "outputs": [
    {
     "name": "stdout",
     "output_type": "stream",
     "text": [
      "time: 1.85 s (started: 2023-07-28 09:30:26 +02:00)\n"
     ]
    }
   ],
   "source": [
    "# path to local data directory\n",
    "data_dir = '/Users/air/Desktop/FinalProject/Data'\n",
    "\n",
    "# Training data\n",
    "X_rot_train = np.load(f'{data_dir}/X_rot_train.npy')\n",
    "y_rot_train = np.load(f'{data_dir}/y_rot_train.npy')\n",
    "# Validation Data\n",
    "X_rot_val = np.load(f'{data_dir}/X_rot_val.npy')\n",
    "y_rot_val = np.load(f'{data_dir}/y_rot_val.npy')\n"
   ]
  },
  {
   "cell_type": "markdown",
   "metadata": {
    "id": "I4RSElybTbwi"
   },
   "source": [
    "# Model"
   ]
  },
  {
   "cell_type": "code",
   "execution_count": 4,
   "metadata": {
    "id": "jJGejh9hTY-g"
   },
   "outputs": [
    {
     "name": "stdout",
     "output_type": "stream",
     "text": [
      "time: 381 ms (started: 2023-07-28 09:30:27 +02:00)\n"
     ]
    }
   ],
   "source": [
    "# Creating  CNN\n",
    "model = keras.models.Sequential([\n",
    "        keras.layers.Conv2D(64, 7, activation=\"relu\", padding=\"same\",\n",
    "                            input_shape=[32, 32, 3]),\n",
    "        keras.layers.MaxPooling2D(2),\n",
    "        keras.layers.Conv2D(128, 3, activation=\"relu\", padding=\"same\"),\n",
    "        keras.layers.Conv2D(128, 3, activation=\"relu\", padding=\"same\"),\n",
    "        keras.layers.MaxPooling2D(2),\n",
    "        keras.layers.Conv2D(256, 3, activation=\"relu\", padding=\"same\"),\n",
    "        keras.layers.Conv2D(256, 3, activation=\"relu\", padding=\"same\"),\n",
    "        keras.layers.MaxPooling2D(2),\n",
    "        keras.layers.Flatten(),\n",
    "        keras.layers.Dense(128, activation=\"relu\"),\n",
    "        keras.layers.Dropout(0.5),\n",
    "        keras.layers.Dense(64, activation=\"relu\"),\n",
    "        keras.layers.Dropout(0.5),\n",
    "        keras.layers.Dense(4, activation=\"softmax\")\n",
    "])"
   ]
  },
  {
   "cell_type": "markdown",
   "metadata": {},
   "source": [
    "## Compiling Model"
   ]
  },
  {
   "cell_type": "code",
   "execution_count": 5,
   "metadata": {
    "id": "VOVI0SouT3YT"
   },
   "outputs": [
    {
     "name": "stdout",
     "output_type": "stream",
     "text": [
      "time: 5.49 ms (started: 2023-07-28 09:30:28 +02:00)\n"
     ]
    }
   ],
   "source": [
    "# Compiling the model\n",
    "model.compile(\n",
    "    loss=\"sparse_categorical_crossentropy\",\n",
    "    optimizer=\"sgd\",\n",
    "    metrics=[\"accuracy\"])"
   ]
  },
  {
   "cell_type": "code",
   "execution_count": 6,
   "metadata": {
    "id": "Yc6n5R-hZOEH"
   },
   "outputs": [
    {
     "name": "stdout",
     "output_type": "stream",
     "text": [
      "time: 365 µs (started: 2023-07-28 09:30:28 +02:00)\n"
     ]
    }
   ],
   "source": [
    "# Set True for debug, false for performance\n",
    "tf.config.run_functions_eagerly(False)"
   ]
  },
  {
   "cell_type": "markdown",
   "metadata": {},
   "source": [
    "# Training"
   ]
  },
  {
   "cell_type": "code",
   "execution_count": 7,
   "metadata": {
    "id": "x153uoJ2Urp3",
    "scrolled": true
   },
   "outputs": [
    {
     "name": "stdout",
     "output_type": "stream",
     "text": [
      "Epoch 1/15\n"
     ]
    },
    {
     "name": "stderr",
     "output_type": "stream",
     "text": [
      "2023-07-28 09:30:29.848237: W tensorflow/tsl/platform/profile_utils/cpu_utils.cc:128] Failed to get CPU frequency: 0 Hz\n"
     ]
    },
    {
     "name": "stdout",
     "output_type": "stream",
     "text": [
      "4688/4688 [==============================] - 429s 91ms/step - loss: 1.2231 - accuracy: 0.4333 - val_loss: 1.1054 - val_accuracy: 0.5098\n",
      "Epoch 2/15\n",
      "4688/4688 [==============================] - 437s 93ms/step - loss: 1.1051 - accuracy: 0.5053 - val_loss: 1.0466 - val_accuracy: 0.5256\n",
      "Epoch 3/15\n",
      "4688/4688 [==============================] - 438s 93ms/step - loss: 1.0556 - accuracy: 0.5435 - val_loss: 0.9746 - val_accuracy: 0.5974\n",
      "Epoch 4/15\n",
      "4688/4688 [==============================] - 439s 94ms/step - loss: 0.9893 - accuracy: 0.5915 - val_loss: 0.9365 - val_accuracy: 0.6195\n",
      "Epoch 5/15\n",
      "4688/4688 [==============================] - 438s 94ms/step - loss: 0.9462 - accuracy: 0.6134 - val_loss: 0.9192 - val_accuracy: 0.6235\n",
      "Epoch 6/15\n",
      "4688/4688 [==============================] - 439s 94ms/step - loss: 0.9079 - accuracy: 0.6349 - val_loss: 0.8752 - val_accuracy: 0.6462\n",
      "Epoch 7/15\n",
      "4688/4688 [==============================] - 439s 94ms/step - loss: 0.8723 - accuracy: 0.6525 - val_loss: 0.8274 - val_accuracy: 0.6657\n",
      "Epoch 8/15\n",
      "4688/4688 [==============================] - 441s 94ms/step - loss: 0.8345 - accuracy: 0.6690 - val_loss: 0.7856 - val_accuracy: 0.6883\n",
      "Epoch 9/15\n",
      "4688/4688 [==============================] - 439s 94ms/step - loss: 0.7978 - accuracy: 0.6868 - val_loss: 0.7824 - val_accuracy: 0.6882\n",
      "Epoch 10/15\n",
      "4688/4688 [==============================] - 438s 94ms/step - loss: 0.7629 - accuracy: 0.7027 - val_loss: 0.7565 - val_accuracy: 0.6983\n",
      "Epoch 11/15\n",
      "4688/4688 [==============================] - 444s 95ms/step - loss: 0.7296 - accuracy: 0.7175 - val_loss: 0.6982 - val_accuracy: 0.7255\n",
      "Epoch 12/15\n",
      "4688/4688 [==============================] - 441s 94ms/step - loss: 0.6975 - accuracy: 0.7336 - val_loss: 0.7122 - val_accuracy: 0.7158\n",
      "Epoch 13/15\n",
      "4688/4688 [==============================] - 440s 94ms/step - loss: 0.6671 - accuracy: 0.7456 - val_loss: 0.7156 - val_accuracy: 0.7231\n",
      "Epoch 14/15\n",
      "4688/4688 [==============================] - 448s 96ms/step - loss: 0.6333 - accuracy: 0.7615 - val_loss: 0.6653 - val_accuracy: 0.7376\n",
      "Epoch 15/15\n",
      "4688/4688 [==============================] - 480s 102ms/step - loss: 0.6025 - accuracy: 0.7737 - val_loss: 0.6596 - val_accuracy: 0.7414\n",
      "time: 1h 50min 33s (started: 2023-07-28 09:30:28 +02:00)\n"
     ]
    }
   ],
   "source": [
    "# Training the model on Pretext Task\n",
    "history = model.fit(X_rot_train, y_rot_train, epochs=15, validation_data=(X_rot_val, y_rot_val))"
   ]
  },
  {
   "cell_type": "markdown",
   "metadata": {},
   "source": [
    "# Model Summary"
   ]
  },
  {
   "cell_type": "code",
   "execution_count": 9,
   "metadata": {
    "id": "FBunUzsczBlj"
   },
   "outputs": [
    {
     "name": "stdout",
     "output_type": "stream",
     "text": [
      "Model: \"sequential\"\n",
      "_________________________________________________________________\n",
      " Layer (type)                Output Shape              Param #   \n",
      "=================================================================\n",
      " conv2d (Conv2D)             (None, 32, 32, 64)        9472      \n",
      "                                                                 \n",
      " max_pooling2d (MaxPooling2D  (None, 16, 16, 64)       0         \n",
      " )                                                               \n",
      "                                                                 \n",
      " conv2d_1 (Conv2D)           (None, 16, 16, 128)       73856     \n",
      "                                                                 \n",
      " conv2d_2 (Conv2D)           (None, 16, 16, 128)       147584    \n",
      "                                                                 \n",
      " max_pooling2d_1 (MaxPooling  (None, 8, 8, 128)        0         \n",
      " 2D)                                                             \n",
      "                                                                 \n",
      " conv2d_3 (Conv2D)           (None, 8, 8, 256)         295168    \n",
      "                                                                 \n",
      " conv2d_4 (Conv2D)           (None, 8, 8, 256)         590080    \n",
      "                                                                 \n",
      " max_pooling2d_2 (MaxPooling  (None, 4, 4, 256)        0         \n",
      " 2D)                                                             \n",
      "                                                                 \n",
      " flatten (Flatten)           (None, 4096)              0         \n",
      "                                                                 \n",
      " dense (Dense)               (None, 128)               524416    \n",
      "                                                                 \n",
      " dropout (Dropout)           (None, 128)               0         \n",
      "                                                                 \n",
      " dense_1 (Dense)             (None, 64)                8256      \n",
      "                                                                 \n",
      " dropout_1 (Dropout)         (None, 64)                0         \n",
      "                                                                 \n",
      " dense_2 (Dense)             (None, 4)                 260       \n",
      "                                                                 \n",
      "=================================================================\n",
      "Total params: 1,649,092\n",
      "Trainable params: 1,649,092\n",
      "Non-trainable params: 0\n",
      "_________________________________________________________________\n",
      "time: 8.78 ms (started: 2023-07-28 11:21:01 +02:00)\n"
     ]
    }
   ],
   "source": [
    "# Checking the Model Architecture\n",
    "model.summary()"
   ]
  },
  {
   "cell_type": "markdown",
   "metadata": {
    "id": "fsqhMA5-YgOV"
   },
   "source": [
    "# Metrics"
   ]
  },
  {
   "cell_type": "code",
   "execution_count": 10,
   "metadata": {
    "id": "5AuOVT-VYefj"
   },
   "outputs": [
    {
     "name": "stdout",
     "output_type": "stream",
     "text": [
      "313/313 [==============================] - 9s 29ms/step\n",
      "Accuracy: 0.7414\n",
      "Confusion Matrix:\n",
      " [[1602  280  295  291]\n",
      " [  73 2023  156  329]\n",
      " [ 140  253 1806  242]\n",
      " [  74  309  144 1983]]\n",
      "Macro Precision: 0.7508437135923078\n",
      "Macro Recall: 0.740703467565375\n",
      "Macro F1-score: 0.7412219872573915\n",
      "Micro Precision: 0.7414\n",
      "Micro Recall: 0.7414\n",
      "Micro F1-score: 0.7414\n",
      "Classification Report:\n",
      "               precision    recall  f1-score   support\n",
      "\n",
      "           0       0.85      0.65      0.74      2468\n",
      "           1       0.71      0.78      0.74      2581\n",
      "           2       0.75      0.74      0.75      2441\n",
      "           3       0.70      0.79      0.74      2510\n",
      "\n",
      "    accuracy                           0.74     10000\n",
      "   macro avg       0.75      0.74      0.74     10000\n",
      "weighted avg       0.75      0.74      0.74     10000\n",
      "\n",
      "time: 9.45 s (started: 2023-07-28 11:21:01 +02:00)\n"
     ]
    }
   ],
   "source": [
    "from sklearn.metrics import accuracy_score, confusion_matrix, precision_score, recall_score, f1_score, classification_report\n",
    "\n",
    "# Predict the rotation of the validation set\n",
    "y_rot_val_pred = model.predict(X_rot_val).argmax(axis=1)  # Returns the indices of the maximum values along an axis\n",
    "\n",
    "# Accuracy\n",
    "accuracy = accuracy_score(y_rot_val, y_rot_val_pred)\n",
    "print(f\"Accuracy: {accuracy}\")\n",
    "\n",
    "# Confusion Matrix\n",
    "conf_matrix = confusion_matrix(y_rot_val, y_rot_val_pred)\n",
    "print(f\"Confusion Matrix:\\n {conf_matrix}\")\n",
    "\n",
    "# Precision, Recall, F1-score with 'macro' average\n",
    "precision_macro = precision_score(y_rot_val, y_rot_val_pred, average='macro')\n",
    "recall_macro = recall_score(y_rot_val, y_rot_val_pred, average='macro')\n",
    "f1_macro = f1_score(y_rot_val, y_rot_val_pred, average='macro')\n",
    "print(f\"Macro Precision: {precision_macro}\")\n",
    "print(f\"Macro Recall: {recall_macro}\")\n",
    "print(f\"Macro F1-score: {f1_macro}\")\n",
    "\n",
    "# Precision, Recall, F1-score with 'micro' average\n",
    "precision_micro = precision_score(y_rot_val, y_rot_val_pred, average='micro')\n",
    "recall_micro = recall_score(y_rot_val, y_rot_val_pred, average='micro')\n",
    "f1_micro = f1_score(y_rot_val, y_rot_val_pred, average='micro')\n",
    "print(f\"Micro Precision: {precision_micro}\")\n",
    "print(f\"Micro Recall: {recall_micro}\")\n",
    "print(f\"Micro F1-score: {f1_micro}\")\n",
    "\n",
    "# Classification Report\n",
    "print(\"Classification Report:\\n\", classification_report(y_rot_val, y_rot_val_pred))\n"
   ]
  },
  {
   "cell_type": "markdown",
   "metadata": {},
   "source": [
    "## Confusion Matrix"
   ]
  },
  {
   "cell_type": "code",
   "execution_count": 11,
   "metadata": {
    "id": "1dFYbAsNtmJ9"
   },
   "outputs": [
    {
     "name": "stdout",
     "output_type": "stream",
     "text": [
      "313/313 [==============================] - 9s 30ms/step\n",
      "Accuracy: 0.7414\n",
      "\n"
     ]
    },
    {
     "data": {
      "image/png": "[encoded data removed]",
      "text/plain": [
       "<Figure size 800x600 with 2 Axes>"
      ]
     },
     "metadata": {},
     "output_type": "display_data"
    },
    {
     "name": "stdout",
     "output_type": "stream",
     "text": [
      "            Metric     Score\n",
      "0  Macro Precision  0.750844\n",
      "1     Macro Recall  0.740703\n",
      "2   Macro F1-score  0.741222\n",
      "3  Micro Precision  0.741400\n",
      "4     Micro Recall  0.741400\n",
      "5   Micro F1-score  0.741400\n",
      "time: 9.52 s (started: 2023-07-28 11:21:11 +02:00)\n"
     ]
    }
   ],
   "source": [
    "\n",
    "# Predict the rotation of the validation set\n",
    "y_rot_val_pred = model.predict(X_rot_val).argmax(axis=1)\n",
    "\n",
    "# Accuracy\n",
    "accuracy = accuracy_score(y_rot_val, y_rot_val_pred)\n",
    "print(f\"Accuracy: {accuracy}\\n\")\n",
    "\n",
    "# Confusion Matrix\n",
    "conf_matrix = confusion_matrix(y_rot_val, y_rot_val_pred)\n",
    "\n",
    "plt.figure(figsize=(8, 6))\n",
    "sns.heatmap(conf_matrix, annot=True, fmt='d', cmap='Blues')\n",
    "plt.xlabel('Predicted label')\n",
    "plt.ylabel('True label')\n",
    "plt.title('Confusion Matrix')\n",
    "plt.show()\n",
    "\n",
    "# Precision, Recall, F1-score with 'macro' average\n",
    "precision_macro = precision_score(y_rot_val, y_rot_val_pred, average='macro')\n",
    "recall_macro = recall_score(y_rot_val, y_rot_val_pred, average='macro')\n",
    "f1_macro = f1_score(y_rot_val, y_rot_val_pred, average='macro')\n",
    "\n",
    "# Precision, Recall, F1-score with 'micro' average\n",
    "precision_micro = precision_score(y_rot_val, y_rot_val_pred, average='micro')\n",
    "recall_micro = recall_score(y_rot_val, y_rot_val_pred, average='micro')\n",
    "f1_micro = f1_score(y_rot_val, y_rot_val_pred, average='micro')\n",
    "\n",
    "# Create a DataFrame for the results\n",
    "results = pd.DataFrame({\n",
    "    'Metric': ['Macro Precision', 'Macro Recall', 'Macro F1-score', 'Micro Precision', 'Micro Recall', 'Micro F1-score'],\n",
    "    'Score': [precision_macro, recall_macro, f1_macro, precision_micro, recall_micro, f1_micro]\n",
    "})\n",
    "\n",
    "print(results)\n"
   ]
  },
  {
   "cell_type": "markdown",
   "metadata": {},
   "source": [
    "## Plotting Training and Validation Loss"
   ]
  },
  {
   "cell_type": "code",
   "execution_count": 12,
   "metadata": {},
   "outputs": [
    {
     "data": {
      "image/png": "[encoded data removed]",
      "text/plain": [
       "<Figure size 1000x600 with 1 Axes>"
      ]
     },
     "metadata": {},
     "output_type": "display_data"
    },
    {
     "name": "stdout",
     "output_type": "stream",
     "text": [
      "time: 92.4 ms (started: 2023-07-28 11:21:20 +02:00)\n"
     ]
    }
   ],
   "source": [
    "# Plotting the training and validation loss\n",
    "plt.figure(figsize=(10, 6))\n",
    "plt.plot(history.history['loss'], label='Training Loss')\n",
    "plt.plot(history.history['val_loss'], label='Validation Loss')\n",
    "plt.title('Training and Validation Loss Over Epochs')\n",
    "plt.xlabel('Epochs')\n",
    "plt.ylabel('Loss')\n",
    "plt.legend()\n",
    "plt.show()\n"
   ]
  },
  {
   "cell_type": "markdown",
   "metadata": {},
   "source": [
    "# Saving the Model"
   ]
  },
  {
   "cell_type": "code",
   "execution_count": 8,
   "metadata": {},
   "outputs": [
    {
     "name": "stdout",
     "output_type": "stream",
     "text": [
      "time: 38.8 ms (started: 2023-07-28 11:21:01 +02:00)\n"
     ]
    }
   ],
   "source": [
    "#Save the model\n",
    "model.save('/Users/air/Desktop/FinalProject/Models/Model.h5')\n"
   ]
  }
 ],
 "metadata": {
  "accelerator": "TPU",
  "colab": {
   "collapsed_sections": [
    "mISFM1WbVGk-",
    "b2Qn8VxCYosW"
   ],
   "provenance": []
  },
  "gpuClass": "standard",
  "kernelspec": {
   "display_name": "Python 3 (ipykernel)",
   "language": "python",
   "name": "python3"
  },
  "language_info": {
   "codemirror_mode": {
    "name": "ipython",
    "version": 3
   },
   "file_extension": ".py",
   "mimetype": "text/x-python",
   "name": "python",
   "nbconvert_exporter": "python",
   "pygments_lexer": "ipython3",
   "version": "3.11.4"
  }
 },
 "nbformat": 4,
 "nbformat_minor": 1
}
